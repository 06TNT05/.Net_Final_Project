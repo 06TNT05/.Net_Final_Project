{
  "cells": [
    {
      "cell_type": "markdown",
      "metadata": {
        "id": "view-in-github",
        "colab_type": "text"
      },
      "source": [
        "<a href=\"https://colab.research.google.com/github/06TNT05/.Net_Final_Project/blob/main/Untitled2.ipynb\" target=\"_parent\"><img src=\"https://colab.research.google.com/assets/colab-badge.svg\" alt=\"Open In Colab\"/></a>"
      ]
    },
    {
      "cell_type": "code",
      "execution_count": null,
      "metadata": {
        "id": "tOhsDXFJFLD_"
      },
      "outputs": [],
      "source": [
        "!pip install torch==1.8.2 torchvision==0.9.2 torchaudio===0.8.2 --extra-index-url https://download.pytorch.org/whl/lts/1.8/cu111"
      ]
    },
    {
      "cell_type": "code",
      "execution_count": null,
      "metadata": {
        "id": "LnVxd7mtHULU"
      },
      "outputs": [],
      "source": [
        "!git clone https://github.com/ultralytics/yolov5  # clone"
      ]
    },
    {
      "cell_type": "code",
      "execution_count": null,
      "metadata": {
        "id": "JBO_hrh7Hdcl"
      },
      "outputs": [],
      "source": [
        "!pip install -r yolov5/requirements.txt"
      ]
    },
    {
      "cell_type": "code",
      "execution_count": null,
      "metadata": {
        "id": "GlVnx9M1KSWx"
      },
      "outputs": [],
      "source": [
        "import torch\n",
        "import matplotlib.pyplot as plt\n",
        "import numpy as np\n",
        "import cv2"
      ]
    },
    {
      "cell_type": "code",
      "execution_count": null,
      "metadata": {
        "id": "65-dXxfVL2sq"
      },
      "outputs": [],
      "source": [
        "model = torch.hub.load('ultralytics/yolov5', 'yolov5s')"
      ]
    },
    {
      "cell_type": "code",
      "execution_count": null,
      "metadata": {
        "id": "jNfz9TL-MOwy"
      },
      "outputs": [],
      "source": [
        "model"
      ]
    },
    {
      "cell_type": "code",
      "execution_count": null,
      "metadata": {
        "id": "jIIyk_IkM314"
      },
      "outputs": [],
      "source": [
        "img = 'https://ultralytics.com/images/bus.jpg'"
      ]
    },
    {
      "cell_type": "code",
      "execution_count": null,
      "metadata": {
        "id": "johaiKjiNBUo"
      },
      "outputs": [],
      "source": [
        "results = model(img)\n",
        "results.print()"
      ]
    },
    {
      "cell_type": "code",
      "execution_count": null,
      "metadata": {
        "id": "ZnGhIs7cOq7u"
      },
      "outputs": [],
      "source": [
        "%matplotlib inline\n",
        "plt.imshow(np.squeeze(results.render()))\n",
        "plt.show()"
      ]
    },
    {
      "cell_type": "code",
      "execution_count": null,
      "metadata": {
        "id": "e9AOeSKSSMKZ"
      },
      "outputs": [],
      "source": [
        "cap = cv2.VideoCapture(0)\n",
        "while cap.isOpened():\n",
        "  ret, frame = cap.read()\n",
        "  \n",
        "  cv2.imshow('YOLO', frame)\n",
        "\n",
        "  if cv2.waitKey(10) & 0xff == ord('q'):\n",
        "    break\n",
        "cap.release()\n",
        "cv2.destroyAllWindows()"
      ]
    },
    {
      "cell_type": "code",
      "execution_count": null,
      "metadata": {
        "id": "QhxJcb5xbD5t"
      },
      "outputs": [],
      "source": [
        "labels = ['cat', 'dog']\n",
        "number_imgs = 20"
      ]
    },
    {
      "cell_type": "code",
      "execution_count": null,
      "metadata": {
        "id": "a2-_o-iAbUG_"
      },
      "outputs": [],
      "source": [
        "for label in labels:\n",
        "  for img_num in range(number_imgs):\n",
        "    "
      ]
    },
    {
      "cell_type": "code",
      "execution_count": null,
      "metadata": {
        "id": "aanlpCHOcO3O"
      },
      "outputs": [],
      "source": [
        "!git clone https://github.com/heartexlabs/labelImg"
      ]
    },
    {
      "cell_type": "code",
      "execution_count": null,
      "metadata": {
        "id": "gg7bzrPacxy1"
      },
      "outputs": [],
      "source": [
        "!pip install pyqt5 lxml"
      ]
    },
    {
      "cell_type": "code",
      "source": [
        "%cd labelImg"
      ],
      "metadata": {
        "colab": {
          "base_uri": "https://localhost:8080/"
        },
        "id": "7ORrWBhCpm22",
        "outputId": "a08247b2-b137-4058-a598-01ba2e2c6389"
      },
      "execution_count": null,
      "outputs": [
        {
          "output_type": "stream",
          "name": "stdout",
          "text": [
            "/content/labelImg\n"
          ]
        }
      ]
    },
    {
      "cell_type": "code",
      "source": [
        "!pyrcc5 -o libs/resources.py resources.qrc"
      ],
      "metadata": {
        "id": "lxk6jLJXkDei"
      },
      "execution_count": null,
      "outputs": []
    },
    {
      "cell_type": "code",
      "execution_count": null,
      "metadata": {
        "id": "cQl4WZzVflaN",
        "colab": {
          "base_uri": "https://localhost:8080/"
        },
        "outputId": "f6eb4849-110a-4175-843c-26b5dd7c059a"
      },
      "outputs": [
        {
          "metadata": {
            "tags": null
          },
          "name": "stdout",
          "output_type": "stream",
          "text": [
            "QStandardPaths: XDG_RUNTIME_DIR not set, defaulting to '/tmp/runtime-root'\n",
            "QVncServer created on port 5900\n"
          ]
        }
      ],
      "source": [
        "!python labelImg.py -platform vnc"
      ]
    }
  ],
  "metadata": {
    "colab": {
      "collapsed_sections": [],
      "provenance": [],
      "authorship_tag": "ABX9TyO1o9Yhiwx9FL/Wy+gyi/4L",
      "include_colab_link": true
    },
    "kernelspec": {
      "display_name": "Python 3",
      "name": "python3"
    },
    "language_info": {
      "name": "python"
    },
    "accelerator": "GPU"
  },
  "nbformat": 4,
  "nbformat_minor": 0
}